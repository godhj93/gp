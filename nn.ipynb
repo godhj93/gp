{
 "cells": [
  {
   "cell_type": "code",
   "execution_count": 1,
   "metadata": {},
   "outputs": [],
   "source": [
    "import torch\n",
    "import torch.nn as nn  \n",
    "import torch.optim as optim\n",
    "import torch.nn.functional as F\n",
    "import numpy as np\n",
    "from torch.utils.data import DataLoader\n",
    "from torch.utils.data import Dataset\n",
    "import matplotlib.pyplot as plt\n",
    "from tqdm import tqdm"
   ]
  },
  {
   "cell_type": "code",
   "execution_count": 2,
   "metadata": {},
   "outputs": [],
   "source": [
    "class Net(nn.Module):\n",
    "    def __init__(self):\n",
    "        super(Net, self).__init__()\n",
    "        self.fc1 = nn.Linear(1, 128)\n",
    "        self.fc2 = nn.Linear(128, 128)\n",
    "        self.fc3 = nn.Linear(128, 100)\n",
    "\n",
    "    def forward(self, x):\n",
    "        x = F.relu(self.fc1(x))\n",
    "        x = F.relu(self.fc2(x))\n",
    "        x = self.fc3(x)\n",
    "        \n",
    "        return x"
   ]
  },
  {
   "cell_type": "code",
   "execution_count": 4,
   "metadata": {},
   "outputs": [
    {
     "name": "stdout",
     "output_type": "stream",
     "text": [
      "Done\n"
     ]
    }
   ],
   "source": [
    "def rbf_kernel(x1, x2, variance=1.0, lengthscale=1.0):\n",
    "    \n",
    "    # Compute the squared Euclidean distance\n",
    "    dist_sq = np.sum((x1 - x2)**2, axis = 0)\n",
    "    \n",
    "    # Compute the kernel value\n",
    "    kernel_value = variance * np.exp(-0.5 * dist_sq / lengthscale**2)\n",
    "    \n",
    "    return kernel_value\n",
    "\n",
    "GT_MAT = torch.zeros(501, 501)\n",
    "\n",
    "for i, x1 in enumerate(np.linspace(-10, 10, 501)):\n",
    "    for j, x2 in enumerate(np.linspace(-10, 10, 501)):\n",
    "        GT_MAT[i, j] = rbf_kernel(np.array([x1]), np.array([x2]), 1.0, 1.0)\n",
    "        \n",
    "print(\"Done\")"
   ]
  },
  {
   "cell_type": "code",
   "execution_count": 5,
   "metadata": {},
   "outputs": [
    {
     "name": "stderr",
     "output_type": "stream",
     "text": [
      "Loss: 0.00012637520558200777:  64%|██████▍   | 63841/100000 [02:28<01:23, 432.40it/s]"
     ]
    }
   ],
   "source": [
    "net = Net().cuda()\n",
    "optim = torch.optim.Adam(net.parameters(), lr=1e-3)\n",
    "\n",
    "x1 = torch.linspace(-10, 10, 501).reshape(-1, 1).cuda()\n",
    "x2 = torch.linspace(-10, 10, 501).reshape(-1, 1).cuda()\n",
    "\n",
    "pbar = tqdm(range(100000))\n",
    "for _ in pbar:\n",
    "    output = net(x1) @ net(x2).T\n",
    "    \n",
    "    loss = F.mse_loss(output, GT_MAT.cuda())\n",
    "    \n",
    "    optim.zero_grad()\n",
    "    loss.backward()\n",
    "    optim.step()\n",
    "    \n",
    "    pbar.set_description(f\"Loss: {loss.item()}\")\n",
    "    \n",
    "    if loss.item() < 1e-5:\n",
    "        break\n"
   ]
  },
  {
   "cell_type": "code",
   "execution_count": 31,
   "metadata": {},
   "outputs": [
    {
     "data": {
      "text/plain": [
       "0.0033854874782264233"
      ]
     },
     "execution_count": 31,
     "metadata": {},
     "output_type": "execute_result"
    }
   ],
   "source": [
    "0.0033854874782264233"
   ]
  },
  {
   "cell_type": "code",
   "execution_count": 14,
   "metadata": {},
   "outputs": [
    {
     "data": {
      "text/plain": [
       "[<matplotlib.lines.Line2D at 0x7f99f55a27d0>]"
      ]
     },
     "execution_count": 14,
     "metadata": {},
     "output_type": "execute_result"
    },
    {
     "data": {
      "image/png": "[encoded data removed]",
      "text/plain": [
       "<Figure size 640x480 with 1 Axes>"
      ]
     },
     "metadata": {},
     "output_type": "display_data"
    }
   ],
   "source": [
    "output.shape\n",
    "idx = 100\n",
    "plt.plot(output[idx,:].cpu().detach().numpy())\n",
    "plt.plot(GT_MAT[idx,:].cpu().detach().numpy())"
   ]
  },
  {
   "cell_type": "code",
   "execution_count": null,
   "metadata": {},
   "outputs": [],
   "source": [
    "\n"
   ]
  }
 ],
 "metadata": {
  "kernelspec": {
   "display_name": "gp",
   "language": "python",
   "name": "python3"
  },
  "language_info": {
   "codemirror_mode": {
    "name": "ipython",
    "version": 3
   },
   "file_extension": ".py",
   "mimetype": "text/x-python",
   "name": "python",
   "nbconvert_exporter": "python",
   "pygments_lexer": "ipython3",
   "version": "3.10.14"
  }
 },
 "nbformat": 4,
 "nbformat_minor": 2
}
